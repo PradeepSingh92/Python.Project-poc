{
 "cells": [
  {
   "cell_type": "code",
   "execution_count": 10,
   "metadata": {},
   "outputs": [],
   "source": [
    "#Python Project - Churn Emails - Dataset\n",
    "#These files are in a standard format for a file containing multiple mail messages. \n",
    "#The lines which start with \"From \" separate the messages and the lines which start with \"From:\" are part of the messages."
   ]
  },
  {
   "cell_type": "code",
   "execution_count": 12,
   "metadata": {},
   "outputs": [
    {
     "data": {
      "text/plain": [
       "1910"
      ]
     },
     "execution_count": 12,
     "metadata": {},
     "output_type": "execute_result"
    }
   ],
   "source": [
    "def number_of_lines():\n",
    "    f=open('/cxldata/datasets/project/mbox-short.txt','r').read()\n",
    "    f = f.split(\"\\n\")[:-1] \n",
    "    return len(f)\n",
    "\n",
    "number_of_lines()"
   ]
  },
  {
   "cell_type": "code",
   "execution_count": 13,
   "metadata": {},
   "outputs": [
    {
     "data": {
      "text/plain": [
       "27"
      ]
     },
     "execution_count": 13,
     "metadata": {},
     "output_type": "execute_result"
    }
   ],
   "source": [
    "def count_number_of_lines():\n",
    "    with open('/cxldata/datasets/project/mbox-short.txt') as f:\n",
    "        cnt = 0\n",
    "        for c in f:\n",
    "            c=c.rstrip()\n",
    "            if c.startswith('Subject:'):#remove new line characters from right\n",
    "                cnt += 1\n",
    "    return cnt\n",
    "count_number_of_lines()"
   ]
  },
  {
   "cell_type": "code",
   "execution_count": 14,
   "metadata": {},
   "outputs": [
    {
     "data": {
      "text/plain": [
       "0.7507185185185187"
      ]
     },
     "execution_count": 14,
     "metadata": {},
     "output_type": "execute_result"
    }
   ],
   "source": [
    "#Python Project - Churn Emails - Find Average Spam Confidence\n",
    "\n",
    "def average_spam_confidence():\n",
    "    with open('/cxldata/datasets/project/mbox-short.txt') as f:\n",
    "        sum=0\n",
    "        cnt = 0\n",
    "        for c in f:\n",
    "            c=c.rstrip()\n",
    "            if c.startswith('X-DSPAM-Confidence:'):\n",
    "                sp=c.split(':')\n",
    "                sum+=float(sp[1])\n",
    "                cnt+=1\n",
    "        av=float(sum/cnt)       \n",
    "\n",
    "    return av\n",
    "average_spam_confidence()"
   ]
  },
  {
   "cell_type": "code",
   "execution_count": 15,
   "metadata": {},
   "outputs": [
    {
     "data": {
      "text/plain": [
       "0.7507185185185187"
      ]
     },
     "execution_count": 15,
     "metadata": {},
     "output_type": "execute_result"
    }
   ],
   "source": [
    "#Find Average Spam Confidence\n",
    "def average_spam_confidence():\n",
    "    with open('/cxldata/datasets/project/mbox-short.txt') as f:\n",
    "        sum=0\n",
    "        cnt = 0\n",
    "        for c in f:\n",
    "            c=c.rstrip()\n",
    "            if c.startswith('X-DSPAM-Confidence:'):\n",
    "                sp=c.split(':')\n",
    "                sum+=float(sp[1])\n",
    "                cnt+=1\n",
    "        av=float(sum/cnt)       \n",
    "\n",
    "    return av\n",
    "average_spam_confidence()"
   ]
  },
  {
   "cell_type": "code",
   "execution_count": 16,
   "metadata": {},
   "outputs": [],
   "source": [
    "#Which Day of the Week the Email was sent\n",
    "def find_email_sent_days():\n",
    "    daysdict = {}\n",
    "    dayslist = []\n",
    "\n",
    "    with open(\"/cxldata/datasets/project/mbox-short.txt\") as f:\n",
    "        for line in f:\n",
    "            dayslist = line.split()\n",
    "            if len(dayslist) > 3 and line.startswith('From'):\n",
    "                day = dayslist[2]\n",
    "                if day not in daysdict:\n",
    "                    daysdict[day] = 1\n",
    "                else:\n",
    "                    daysdict[day] += 1\n",
    "    return daysdict"
   ]
  },
  {
   "cell_type": "code",
   "execution_count": 17,
   "metadata": {},
   "outputs": [],
   "source": [
    "#Count Number of Messages From Each Email Address\n",
    "def count_message_from_email():\n",
    "    lineslist=[]\n",
    "    emaildict={}\n",
    "    with open(\"/cxldata/datasets/project/mbox-short.txt\") as f:\n",
    "      for line in f:\n",
    "        lineslist = line.split()\n",
    "        if line.startswith('From:'):\n",
    "          email=lineslist[1]\n",
    "          if email not in emaildict:\n",
    "            emaildict[email] = 1\n",
    "          else:\n",
    "            emaildict[email] += 1\n",
    "    return emaildict"
   ]
  },
  {
   "cell_type": "code",
   "execution_count": 18,
   "metadata": {},
   "outputs": [],
   "source": [
    "#Count Number of Messages From Each Domain\n",
    "def count_message_from_domain():\n",
    "    lineslist=[]\n",
    "    domaindict={}\n",
    "    with open(\"/cxldata/datasets/project/mbox-short.txt\") as f:\n",
    "        for line in f:\n",
    "            lineslist = line.split()\n",
    "            if line.startswith('From:'):\n",
    "                email=lineslist[1]\n",
    "                domain = email.split('@')[1] \n",
    "                if domain not in domaindict:\n",
    "                    domaindict[domain] = 1\n",
    "                else:\n",
    "                    domaindict[domain] += 1\n",
    "    return domaindict"
   ]
  },
  {
   "cell_type": "code",
   "execution_count": null,
   "metadata": {},
   "outputs": [],
   "source": []
  }
 ],
 "metadata": {
  "kernelspec": {
   "display_name": "Python 3",
   "language": "python",
   "name": "python3"
  },
  "language_info": {
   "codemirror_mode": {
    "name": "ipython",
    "version": 3
   },
   "file_extension": ".py",
   "mimetype": "text/x-python",
   "name": "python",
   "nbconvert_exporter": "python",
   "pygments_lexer": "ipython3",
   "version": "3.6.8"
  },
  "toc": {
   "base_numbering": 1,
   "nav_menu": {},
   "number_sections": true,
   "sideBar": true,
   "skip_h1_title": false,
   "title_cell": "Table of Contents",
   "title_sidebar": "Contents",
   "toc_cell": false,
   "toc_position": {},
   "toc_section_display": true,
   "toc_window_display": false
  }
 },
 "nbformat": 4,
 "nbformat_minor": 2
}
